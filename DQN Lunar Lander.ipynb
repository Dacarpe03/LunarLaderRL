{
 "cells": [
  {
   "cell_type": "markdown",
   "metadata": {
    "id": "8TT3LPGc5PuK"
   },
   "source": [
    "\n",
    "\n",
    "<p><img height=\"80px\" src=\"https://www.upm.es/sfs/Rectorado/Gabinete%20del%20Rector/Logos/UPM/Escudo/EscUpm.jpg\" align=\"left\" hspace=\"0px\" vspace=\"0px\"></p>\n",
    "\n",
    "**Course \"Artificial Neural Networks and Deep Learning\" - Universidad Politécnica de Madrid (UPM)**\n",
    "\n",
    "# **Deep Q-Learning for Cartpole**\n",
    "\n",
    "This notebook includes an implementation of the Deep Q-learning (DQN) algorithm for the cartpole problem (see [OpenAI's Cartpole](https://www.gymlibrary.dev/environments/classic_control/cart_pole/)).\n"
   ]
  },
  {
   "cell_type": "markdown",
   "metadata": {
    "id": "JXBzOdaLAEUn"
   },
   "source": [
    "##Libraries"
   ]
  },
  {
   "cell_type": "code",
   "execution_count": 1,
   "metadata": {
    "executionInfo": {
     "elapsed": 2248,
     "status": "ok",
     "timestamp": 1669155674457,
     "user": {
      "displayName": "Martin Molina Gonzalez",
      "userId": "08504696337223407114"
     },
     "user_tz": -60
    },
    "id": "LjLS1WetFhCE"
   },
   "outputs": [],
   "source": [
    "import gym\n",
    "import numpy as np\n",
    "from tensorflow import keras\n",
    "import matplotlib.pyplot as plt\n",
    "import time\n",
    "import random"
   ]
  },
  {
   "cell_type": "markdown",
   "metadata": {
    "id": "nBrRuhN1AQ-s"
   },
   "source": [
    "## Hyperparameters"
   ]
  },
  {
   "cell_type": "code",
   "execution_count": 2,
   "metadata": {
    "executionInfo": {
     "elapsed": 14,
     "status": "ok",
     "timestamp": 1669155674459,
     "user": {
      "displayName": "Martin Molina Gonzalez",
      "userId": "08504696337223407114"
     },
     "user_tz": -60
    },
    "id": "4N2yVwtuFlBu"
   },
   "outputs": [],
   "source": [
    "GAMMA = 0.99\n",
    "MEMORY_SIZE = 100000\n",
    "LEARNING_RATE = 0.001\n",
    "BATCH_SIZE = 32\n",
    "EXPLORATION_MAX = 1\n",
    "EXPLORATION_MIN = 0.01\n",
    "EXPLORATION_DECAY = 0.995\n",
    "NUMBER_OF_EPISODES = 400\n",
    "MAX_STEPS = 1000\n",
    "USE_TARGET = True"
   ]
  },
  {
   "cell_type": "markdown",
   "metadata": {
    "id": "OoGaas6TAd6p"
   },
   "source": [
    "## Class ReplayMemory\n",
    "\n",
    "Memory of transitions for experience replay."
   ]
  },
  {
   "cell_type": "code",
   "execution_count": 3,
   "metadata": {
    "executionInfo": {
     "elapsed": 14,
     "status": "ok",
     "timestamp": 1669155674460,
     "user": {
      "displayName": "Martin Molina Gonzalez",
      "userId": "08504696337223407114"
     },
     "user_tz": -60
    },
    "id": "cQV7IfhFOoSh"
   },
   "outputs": [],
   "source": [
    "class ReplayMemory:\n",
    "\n",
    "    def __init__(self,number_of_observations):\n",
    "        # Create replay memory\n",
    "        self.states = np.zeros((MEMORY_SIZE, number_of_observations))\n",
    "        self.states_next = np.zeros((MEMORY_SIZE, number_of_observations))\n",
    "        self.actions = np.zeros(MEMORY_SIZE, dtype=np.int32)\n",
    "        self.rewards = np.zeros(MEMORY_SIZE)\n",
    "        self.terminal_states = np.zeros(MEMORY_SIZE, dtype=bool)\n",
    "        self.current_size=0\n",
    "\n",
    "    def store_transition(self, state, action, reward, state_next, terminal_state):\n",
    "        # Store a transition (s,a,r,s') in the replay memory\n",
    "        i = self.current_size\n",
    "        self.states[i] = state\n",
    "        self.states_next[i] = state_next\n",
    "        self.actions[i] = action\n",
    "        self.rewards[i] = reward\n",
    "        self.terminal_states[i] = terminal_state\n",
    "        self.current_size = i + 1\n",
    "\n",
    "    def sample_memory(self, batch_size):\n",
    "        # Generate a sample of transitions from the replay memory\n",
    "        batch = np.random.choice(self.current_size, batch_size)\n",
    "        states = self.states[batch]\n",
    "        states_next = self.states_next[batch]\n",
    "        rewards = self.rewards[batch]\n",
    "        actions = self.actions[batch]   \n",
    "        terminal_states = self.terminal_states[batch]  \n",
    "        return states, actions, rewards, states_next, terminal_states"
   ]
  },
  {
   "cell_type": "markdown",
   "metadata": {
    "id": "gejKO0OYAsS4"
   },
   "source": [
    "## Class DQN\n",
    "\n",
    "Reinforcement learning agent with a Deep Q-Network."
   ]
  },
  {
   "cell_type": "code",
   "execution_count": 7,
   "metadata": {
    "executionInfo": {
     "elapsed": 15,
     "status": "ok",
     "timestamp": 1669155674462,
     "user": {
      "displayName": "Martin Molina Gonzalez",
      "userId": "08504696337223407114"
     },
     "user_tz": -60
    },
    "id": "NZ6P4Gj0FtnU"
   },
   "outputs": [],
   "source": [
    "class DQN:\n",
    "\n",
    "    def __init__(self, number_of_observations, number_of_actions, use_target=True):\n",
    "        # Initialize variables and create neural model\n",
    "        self.exploration_rate = EXPLORATION_MAX\n",
    "        self.use_target = use_target\n",
    "        self.number_of_actions = number_of_actions\n",
    "        self.number_of_observations = number_of_observations\n",
    "        self.scores = []\n",
    "        self.memory = ReplayMemory(number_of_observations)\n",
    "        self.model = self.create_model()\n",
    "        self.target_model = self.create_model()\n",
    "        self.update_target_model()\n",
    "        \n",
    "    def remember(self, state, action, reward, next_state, terminal_state):\n",
    "        # Store a tuple (s, a, r, s') for experience replay\n",
    "        state = np.reshape(state, [1, self.number_of_observations])\n",
    "        next_state = np.reshape(next_state, [1, self.number_of_observations])\n",
    "        self.memory.store_transition(state, action, reward, next_state, terminal_state)\n",
    "\n",
    "    def select(self, state):\n",
    "        # Generate an action for a given state using epsilon-greedy policy\n",
    "        if np.random.rand() < self.exploration_rate:\n",
    "            return random.randrange(self.number_of_actions)\n",
    "        else:\n",
    "            state = np.reshape(state, [1, self.number_of_observations])\n",
    "            q_values = self.model.predict(state, verbose=0)\n",
    "            return np.argmax(q_values[0])\n",
    "\n",
    "    def learn(self):\n",
    "        # Learn the value Q using a sample of examples from the replay memory\n",
    "        if self.memory.current_size < BATCH_SIZE: return\n",
    "\n",
    "        states, actions, rewards, next_states, terminal_states = self.memory.sample_memory(BATCH_SIZE)\n",
    "        \n",
    "        if self.use_target:\n",
    "            q_targets = self.target_model.predict(states, verbose=0)\n",
    "            q_next_states = self.target_model.predict(next_states, verbose=0)\n",
    "        else:\n",
    "            q_targets = self.model.predict(states, verbose=0)\n",
    "            q_next_states = self.model.predict(next_states, verbose=0)\n",
    "\n",
    "        for i in range(BATCH_SIZE):\n",
    "             if (terminal_states[i]):\n",
    "                  q_targets[i][actions[i]] = rewards[i]\n",
    "             else:\n",
    "                  q_targets[i][actions[i]] = rewards[i] + GAMMA * np.max(q_next_states[i])    \n",
    "\n",
    "        self.model.train_on_batch(states, q_targets)\n",
    "\n",
    "        # Decrease exploration rate\n",
    "        self.exploration_rate *= EXPLORATION_DECAY\n",
    "        self.exploration_rate = max(EXPLORATION_MIN, self.exploration_rate)\n",
    "\n",
    "    def add_score(self, score):\n",
    "       # Add the obtained score in a list to be presented later\n",
    "        self.scores.append(score)\n",
    "\n",
    "    def display_scores_graphically(self):\n",
    "        # Display the obtained scores graphically\n",
    "        plt.plot(self.scores)\n",
    "        plt.xlabel(\"Episode\")\n",
    "        plt.ylabel(\"Score\")\\\n",
    "    \n",
    "    def create_model(self):\n",
    "        # Creates the models\n",
    "        model = keras.models.Sequential()\n",
    "        model.add(keras.layers.Dense(24, input_shape=(number_of_observations,), \\\n",
    "                             activation=\"relu\",kernel_initializer=\"he_normal\"))\n",
    "        model.add(keras.layers.Dense(24, activation=\"relu\",kernel_initializer=\"he_normal\"))\n",
    "        model.add(keras.layers.Dense(number_of_actions, activation=\"linear\"))\n",
    "        model.compile(loss=\"mse\", optimizer=keras.optimizers.Adam(learning_rate=LEARNING_RATE))\n",
    "        return model\n",
    "    \n",
    "    def update_target_model(self):\n",
    "        if (use_target):\n",
    "            print(\"Updating target model weights\")\n",
    "            self.target_model.set_weights(self.model.get_weights())\n",
    "        \n",
    "    def save_model(self, model_name):\n",
    "        self.model.save(model_name)"
   ]
  },
  {
   "cell_type": "markdown",
   "metadata": {
    "id": "d-YSpziT0K9I"
   },
   "source": [
    "## Environment Lunar Lander\n",
    "\n",
    "Lunar Lander simulator from Open Ai Gym:\n",
    "\n",
    "<p><img height=\"200px\" src=\"https://raw.githubusercontent.com/martin-molina/reinforcement_learning/main/images/cartpole_attributes.png\" align=\"center\" vspace=\"20px\"</p>\n",
    "\n",
    "State vector:\n",
    "- state[0]: position\n",
    "- state[1]: velocity\n",
    "- state[2]: angle\n",
    "- state[3]: angular velocity\n",
    "\n",
    "Actions:\n",
    "- 0 (push cart to the left)\n",
    "- 1 (push cart to the right)"
   ]
  },
  {
   "cell_type": "code",
   "execution_count": 5,
   "metadata": {
    "executionInfo": {
     "elapsed": 16,
     "status": "ok",
     "timestamp": 1669155674464,
     "user": {
      "displayName": "Martin Molina Gonzalez",
      "userId": "08504696337223407114"
     },
     "user_tz": -60
    },
    "id": "4LBloUSG0LmT"
   },
   "outputs": [],
   "source": [
    "def create_environment(render=False):\n",
    "    # Create simulated environment\n",
    "    if render:\n",
    "        environment = gym.make(\"LunarLander-v2\", render_mode=\"human\")\n",
    "    else:\n",
    "        environment = gym.make(\"LunarLander-v2\")\n",
    "    number_of_observations = environment.observation_space.shape[0]\n",
    "    number_of_actions = environment.action_space.n\n",
    "    return environment, number_of_observations, number_of_actions"
   ]
  },
  {
   "cell_type": "markdown",
   "metadata": {
    "id": "hbbw6blhDcsJ"
   },
   "source": [
    "## Main program\n",
    "\n",
    "\n"
   ]
  },
  {
   "cell_type": "markdown",
   "metadata": {},
   "source": [
    "We add episode score, the episode score will be equal to the sum of rewards in each step of the episode."
   ]
  },
  {
   "cell_type": "code",
   "execution_count": 6,
   "metadata": {
    "colab": {
     "base_uri": "https://localhost:8080/",
     "height": 1000
    },
    "executionInfo": {
     "elapsed": 805850,
     "status": "ok",
     "timestamp": 1669156480300,
     "user": {
      "displayName": "Martin Molina Gonzalez",
      "userId": "08504696337223407114"
     },
     "user_tz": -60
    },
    "id": "yuzI0m5u5vVf",
    "outputId": "92ec257e-d53d-4e34-c02f-c58a6938ad9f"
   },
   "outputs": [
    {
     "name": "stdout",
     "output_type": "stream",
     "text": [
      "Updating target model weights\n",
      "Episode   1: score -262.0404557856934 (exploration rate: 0.68, transitions: 107 time  13 )\n",
      "Updating target model weights\n",
      "Episode   2: score -146.14045765281676 (exploration rate: 0.48, transitions: 177 time  9 )\n",
      "Updating target model weights\n",
      "Episode   3: score -172.58574563078588 (exploration rate: 0.28, transitions: 284 time  15 )\n",
      "Updating target model weights\n",
      "Episode   4: score -329.08480704841384 (exploration rate: 0.10, transitions: 496 time  31 )\n",
      "Updating target model weights\n",
      "Episode   5: score -116.03927141902139 (exploration rate: 0.06, transitions: 582 time  14 )\n",
      "Updating target model weights\n",
      "Episode   6: score -121.94457922602619 (exploration rate: 0.05, transitions: 645 time  10 )\n",
      "Updating target model weights\n",
      "Episode   7: score -117.00996930401926 (exploration rate: 0.01, transitions: 1645 time  156 )\n",
      "Updating target model weights\n",
      "Episode   8: score -177.3099097691215 (exploration rate: 0.01, transitions: 2406 time  118 )\n",
      "Updating target model weights\n",
      "Episode   9: score -117.64077168765124 (exploration rate: 0.01, transitions: 3406 time  161 )\n",
      "Updating target model weights\n",
      "Episode  10: score -237.2332264615446 (exploration rate: 0.01, transitions: 3776 time  58 )\n",
      "Updating target model weights\n",
      "Episode  11: score -168.21658511166873 (exploration rate: 0.01, transitions: 4051 time  43 )\n",
      "Updating target model weights\n",
      "Episode  12: score -253.34831793028937 (exploration rate: 0.01, transitions: 4467 time  65 )\n",
      "Updating target model weights\n",
      "Episode  13: score -318.861271146833 (exploration rate: 0.01, transitions: 4662 time  31 )\n",
      "Updating target model weights\n",
      "Episode  14: score -205.82217490001193 (exploration rate: 0.01, transitions: 4821 time  25 )\n",
      "Updating target model weights\n",
      "Episode  15: score -13.374555489057968 (exploration rate: 0.01, transitions: 5024 time  32 )\n",
      "Updating target model weights\n",
      "Episode  16: score -144.19605195437617 (exploration rate: 0.01, transitions: 5239 time  34 )\n",
      "Updating target model weights\n",
      "Episode  17: score -367.00169823238457 (exploration rate: 0.01, transitions: 5431 time  30 )\n",
      "Updating target model weights\n",
      "Episode  18: score -112.69483633170732 (exploration rate: 0.01, transitions: 5535 time  16 )\n",
      "Updating target model weights\n",
      "Episode  19: score -144.70012212090654 (exploration rate: 0.01, transitions: 5643 time  17 )\n",
      "Updating target model weights\n",
      "Episode  20: score -415.72016679878044 (exploration rate: 0.01, transitions: 5843 time  32 )\n",
      "Updating target model weights\n",
      "Episode  21: score -502.9260493330182 (exploration rate: 0.01, transitions: 6033 time  30 )\n",
      "Updating target model weights\n",
      "Episode  22: score -363.1737020172136 (exploration rate: 0.01, transitions: 6141 time  17 )\n",
      "Updating target model weights\n",
      "Episode  23: score -653.6120718430924 (exploration rate: 0.01, transitions: 6273 time  21 )\n",
      "Updating target model weights\n",
      "Episode  24: score -404.6994331832276 (exploration rate: 0.01, transitions: 6377 time  16 )\n",
      "Updating target model weights\n",
      "Episode  25: score -547.940868759824 (exploration rate: 0.01, transitions: 6458 time  13 )\n",
      "Updating target model weights\n",
      "Episode  26: score -519.4183233345941 (exploration rate: 0.01, transitions: 6628 time  27 )\n",
      "Updating target model weights\n",
      "Episode  27: score -400.26980412078535 (exploration rate: 0.01, transitions: 6821 time  31 )\n",
      "Updating target model weights\n",
      "Episode  28: score -99.0659102388016 (exploration rate: 0.01, transitions: 6926 time  17 )\n",
      "Updating target model weights\n",
      "Episode  29: score -230.82669080859952 (exploration rate: 0.01, transitions: 7245 time  50 )\n",
      "Updating target model weights\n",
      "Episode  30: score -337.3695322927511 (exploration rate: 0.01, transitions: 7356 time  17 )\n",
      "Updating target model weights\n",
      "Episode  31: score -257.06370993853864 (exploration rate: 0.01, transitions: 7460 time  17 )\n",
      "Updating target model weights\n",
      "Episode  32: score -217.46442716304017 (exploration rate: 0.01, transitions: 7667 time  33 )\n",
      "Updating target model weights\n",
      "Episode  33: score -173.3241804682679 (exploration rate: 0.01, transitions: 7877 time  34 )\n",
      "Updating target model weights\n",
      "Episode  34: score -99.72188058027997 (exploration rate: 0.01, transitions: 8010 time  22 )\n",
      "Updating target model weights\n",
      "Episode  35: score -138.35150608177008 (exploration rate: 0.01, transitions: 8149 time  22 )\n",
      "Updating target model weights\n",
      "Episode  36: score -260.43096884798166 (exploration rate: 0.01, transitions: 8271 time  19 )\n",
      "Updating target model weights\n",
      "Episode  37: score -324.45382180133447 (exploration rate: 0.01, transitions: 8390 time  19 )\n",
      "Updating target model weights\n",
      "Episode  38: score -62.49075498698217 (exploration rate: 0.01, transitions: 8708 time  50 )\n",
      "Updating target model weights\n",
      "Episode  39: score -267.91455776032257 (exploration rate: 0.01, transitions: 9001 time  47 )\n",
      "Updating target model weights\n",
      "Episode  40: score -433.087585558408 (exploration rate: 0.01, transitions: 9678 time  109 )\n",
      "Updating target model weights\n",
      "Episode  41: score -335.25510619895044 (exploration rate: 0.01, transitions: 9889 time  34 )\n",
      "Updating target model weights\n",
      "Episode  42: score -232.0984467146312 (exploration rate: 0.01, transitions: 10175 time  45 )\n",
      "Updating target model weights\n",
      "Episode  43: score -250.83372443415305 (exploration rate: 0.01, transitions: 10398 time  35 )\n",
      "Updating target model weights\n",
      "Episode  44: score -242.70275894864702 (exploration rate: 0.01, transitions: 10591 time  31 )\n",
      "Updating target model weights\n",
      "Episode  45: score -98.42065615491907 (exploration rate: 0.01, transitions: 11059 time  75 )\n",
      "Updating target model weights\n",
      "Episode  46: score -124.07181347111887 (exploration rate: 0.01, transitions: 12059 time  160 )\n",
      "Updating target model weights\n",
      "Episode  47: score -198.99761337543163 (exploration rate: 0.01, transitions: 12858 time  130 )\n",
      "Updating target model weights\n",
      "Episode  48: score -253.35770454670825 (exploration rate: 0.01, transitions: 13764 time  146 )\n",
      "Updating target model weights\n",
      "Episode  49: score -63.95567833198483 (exploration rate: 0.01, transitions: 14214 time  73 )\n",
      "Updating target model weights\n",
      "Episode  50: score -259.1547199403677 (exploration rate: 0.01, transitions: 14727 time  84 )\n",
      "Updating target model weights\n",
      "Episode  51: score -103.24027541710987 (exploration rate: 0.01, transitions: 15727 time  162 )\n",
      "Updating target model weights\n",
      "Episode  52: score -132.73728878702207 (exploration rate: 0.01, transitions: 16727 time  161 )\n",
      "Updating target model weights\n",
      "Episode  53: score -128.91792462257106 (exploration rate: 0.01, transitions: 17727 time  163 )\n",
      "Updating target model weights\n",
      "Episode  54: score -138.8316834199654 (exploration rate: 0.01, transitions: 18727 time  163 )\n",
      "Updating target model weights\n",
      "Episode  55: score -268.24050644548777 (exploration rate: 0.01, transitions: 19707 time  160 )\n",
      "Updating target model weights\n",
      "Episode  56: score -44.529388809158476 (exploration rate: 0.01, transitions: 20707 time  164 )\n",
      "Updating target model weights\n",
      "Episode  57: score 186.27571232848294 (exploration rate: 0.01, transitions: 21491 time  128 )\n",
      "Updating target model weights\n",
      "Episode  58: score -94.17705016946942 (exploration rate: 0.01, transitions: 22491 time  164 )\n",
      "Updating target model weights\n",
      "Episode  59: score 28.71566868340952 (exploration rate: 0.01, transitions: 23491 time  165 )\n",
      "Updating target model weights\n",
      "Episode  60: score -83.79174276037438 (exploration rate: 0.01, transitions: 24491 time  166 )\n",
      "Updating target model weights\n",
      "Episode  61: score -197.0939110792778 (exploration rate: 0.01, transitions: 24817 time  54 )\n",
      "Updating target model weights\n",
      "Episode  62: score 212.5519734303004 (exploration rate: 0.01, transitions: 25366 time  90 )\n",
      "Updating target model weights\n",
      "Reached goal sucessfully.\n",
      "Time: 68 minutes\n"
     ]
    },
    {
     "data": {
      "image/png": "[encoded data removed]",
      "text/plain": [
       "<Figure size 640x480 with 1 Axes>"
      ]
     },
     "metadata": {},
     "output_type": "display_data"
    }
   ],
   "source": [
    "environment, number_of_observations, number_of_actions = create_environment(render=True)\n",
    "agent = DQN(number_of_observations, number_of_actions)\n",
    "episode = 0\n",
    "goal_reached = False\n",
    "start_time = time.perf_counter()\n",
    "while (episode < NUMBER_OF_EPISODES) and not (goal_reached):\n",
    "    start_episode_time = time.perf_counter()\n",
    "    episode += 1\n",
    "    episode_score = 0\n",
    "    step = 1\n",
    "    end_episode = False\n",
    "    state = environment.reset()[0]\n",
    "    \n",
    "    while not(end_episode):\n",
    "        # Select an action for the current state\n",
    "        action = agent.select(state)\n",
    "        # Execute the action in the environment\n",
    "        state_next, reward, terminal_state, truncated, info = environment.step(action)\n",
    "        \n",
    "        # Update score:\n",
    "        episode_score += reward\n",
    "        # Store in memory the transition (s,a,r,s') \n",
    "        agent.remember(state, action, reward, state_next, terminal_state)\n",
    "\n",
    "        # Learn using a batch of experience stored in memory\n",
    "        agent.learn()\n",
    "  \n",
    "        # Detect end of episode and print\n",
    "        if terminal_state or step >= MAX_STEPS:\n",
    "            agent.add_score(episode_score)\n",
    "            if episode_score >= 200: goal_reached = True\n",
    "            print(\"Episode {0:>3}: \".format(episode), end = '')\n",
    "            print(\"score {0:>3} \".format(episode_score), end = '') \n",
    "            print(\"(exploration rate: %.2f, \" % agent.exploration_rate, end = '')\n",
    "            print(\"transitions:\", str(agent.memory.current_size), end = ' ')\n",
    "            print(\"time \", round(time.perf_counter() - start_episode_time), \")\" )\n",
    "            end_episode = True \n",
    "        else:\n",
    "            state = state_next\n",
    "            step += 1\n",
    "            \n",
    "    agent.update_target_model()\n",
    "        \n",
    "if goal_reached: print(\"Reached goal sucessfully.\")\n",
    "else: print(\"Failure to reach the goal.\")\n",
    "\n",
    "print (\"Time:\", round((time.perf_counter() - start_time)/60), \"minutes\")\n",
    "\n",
    "environment.close()\n",
    "agent.display_scores_graphically()"
   ]
  },
  {
   "cell_type": "code",
   "execution_count": null,
   "metadata": {},
   "outputs": [],
   "source": [
    "agent.save_model('model.hdf5')"
   ]
  }
 ],
 "metadata": {
  "accelerator": "GPU",
  "colab": {
   "provenance": []
  },
  "gpuClass": "standard",
  "kernelspec": {
   "display_name": "Python 3 (ipykernel)",
   "language": "python",
   "name": "python3"
  },
  "language_info": {
   "codemirror_mode": {
    "name": "ipython",
    "version": 3
   },
   "file_extension": ".py",
   "mimetype": "text/x-python",
   "name": "python",
   "nbconvert_exporter": "python",
   "pygments_lexer": "ipython3",
   "version": "3.10.4"
  }
 },
 "nbformat": 4,
 "nbformat_minor": 1
}
